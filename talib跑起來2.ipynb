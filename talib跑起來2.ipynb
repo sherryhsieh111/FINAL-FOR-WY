{
 "cells": [
  {
   "cell_type": "code",
   "execution_count": 1,
   "metadata": {},
   "outputs": [],
   "source": [
    "import pandas as pd\n",
    "import datetime"
   ]
  },
  {
   "cell_type": "code",
   "execution_count": 2,
   "metadata": {},
   "outputs": [],
   "source": [
    "file2_name = \"daily_trading_info_2019-2020.xlsx\"\n",
    "file2 = pd.read_excel(file2_name, sheet_name = None)\n",
    "company_index = []\n",
    "company_index = list(file2.keys())[:]"
   ]
  },
  {
   "cell_type": "code",
   "execution_count": 3,
   "metadata": {},
   "outputs": [
    {
     "name": "stdout",
     "output_type": "stream",
     "text": [
      "800\n"
     ]
    }
   ],
   "source": [
    "print(len(company_index))"
   ]
  },
  {
   "cell_type": "code",
   "execution_count": 6,
   "metadata": {
    "scrolled": true
   },
   "outputs": [],
   "source": [
    "from talib import abstract"
   ]
  },
  {
   "cell_type": "code",
   "execution_count": 7,
   "metadata": {},
   "outputs": [
    {
     "data": {
      "text/html": [
       "<div>\n",
       "<style scoped>\n",
       "    .dataframe tbody tr th:only-of-type {\n",
       "        vertical-align: middle;\n",
       "    }\n",
       "\n",
       "    .dataframe tbody tr th {\n",
       "        vertical-align: top;\n",
       "    }\n",
       "\n",
       "    .dataframe thead th {\n",
       "        text-align: right;\n",
       "    }\n",
       "</style>\n",
       "<table border=\"1\" class=\"dataframe\">\n",
       "  <thead>\n",
       "    <tr style=\"text-align: right;\">\n",
       "      <th></th>\n",
       "      <th>date</th>\n",
       "      <th>open</th>\n",
       "      <th>high</th>\n",
       "      <th>low</th>\n",
       "      <th>close</th>\n",
       "      <th>volume</th>\n",
       "    </tr>\n",
       "  </thead>\n",
       "  <tbody>\n",
       "    <tr>\n",
       "      <td>0</td>\n",
       "      <td>2014-01-02</td>\n",
       "      <td>21.309999</td>\n",
       "      <td>21.700001</td>\n",
       "      <td>21.230000</td>\n",
       "      <td>21.459999</td>\n",
       "      <td>5096443</td>\n",
       "    </tr>\n",
       "    <tr>\n",
       "      <td>1</td>\n",
       "      <td>2014-01-03</td>\n",
       "      <td>21.400000</td>\n",
       "      <td>21.450001</td>\n",
       "      <td>20.370001</td>\n",
       "      <td>20.790001</td>\n",
       "      <td>9945683</td>\n",
       "    </tr>\n",
       "    <tr>\n",
       "      <td>2</td>\n",
       "      <td>2014-01-06</td>\n",
       "      <td>20.680000</td>\n",
       "      <td>20.680000</td>\n",
       "      <td>20.219999</td>\n",
       "      <td>20.240000</td>\n",
       "      <td>5171376</td>\n",
       "    </tr>\n",
       "    <tr>\n",
       "      <td>3</td>\n",
       "      <td>2014-01-07</td>\n",
       "      <td>20.100000</td>\n",
       "      <td>20.250000</td>\n",
       "      <td>19.860001</td>\n",
       "      <td>20.000000</td>\n",
       "      <td>5364241</td>\n",
       "    </tr>\n",
       "    <tr>\n",
       "      <td>4</td>\n",
       "      <td>2014-01-08</td>\n",
       "      <td>20.000000</td>\n",
       "      <td>20.389999</td>\n",
       "      <td>20.000000</td>\n",
       "      <td>20.230000</td>\n",
       "      <td>5186841</td>\n",
       "    </tr>\n",
       "    <tr>\n",
       "      <td>...</td>\n",
       "      <td>...</td>\n",
       "      <td>...</td>\n",
       "      <td>...</td>\n",
       "      <td>...</td>\n",
       "      <td>...</td>\n",
       "      <td>...</td>\n",
       "    </tr>\n",
       "    <tr>\n",
       "      <td>1517</td>\n",
       "      <td>2020-03-25</td>\n",
       "      <td>24.600000</td>\n",
       "      <td>24.850000</td>\n",
       "      <td>24.500000</td>\n",
       "      <td>24.799999</td>\n",
       "      <td>7072723</td>\n",
       "    </tr>\n",
       "    <tr>\n",
       "      <td>1518</td>\n",
       "      <td>2020-03-26</td>\n",
       "      <td>24.620001</td>\n",
       "      <td>25.290001</td>\n",
       "      <td>24.580000</td>\n",
       "      <td>25.129999</td>\n",
       "      <td>8346083</td>\n",
       "    </tr>\n",
       "    <tr>\n",
       "      <td>1519</td>\n",
       "      <td>2020-03-27</td>\n",
       "      <td>25.320000</td>\n",
       "      <td>25.799999</td>\n",
       "      <td>25.150000</td>\n",
       "      <td>25.180000</td>\n",
       "      <td>8794212</td>\n",
       "    </tr>\n",
       "    <tr>\n",
       "      <td>1520</td>\n",
       "      <td>2020-03-30</td>\n",
       "      <td>25.150000</td>\n",
       "      <td>25.570000</td>\n",
       "      <td>24.950001</td>\n",
       "      <td>25.450001</td>\n",
       "      <td>8179292</td>\n",
       "    </tr>\n",
       "    <tr>\n",
       "      <td>1521</td>\n",
       "      <td>2020-03-31</td>\n",
       "      <td>25.500000</td>\n",
       "      <td>25.540001</td>\n",
       "      <td>25.150000</td>\n",
       "      <td>25.350000</td>\n",
       "      <td>5331630</td>\n",
       "    </tr>\n",
       "  </tbody>\n",
       "</table>\n",
       "<p>1522 rows × 6 columns</p>\n",
       "</div>"
      ],
      "text/plain": [
       "           date       open       high        low      close   volume\n",
       "0    2014-01-02  21.309999  21.700001  21.230000  21.459999  5096443\n",
       "1    2014-01-03  21.400000  21.450001  20.370001  20.790001  9945683\n",
       "2    2014-01-06  20.680000  20.680000  20.219999  20.240000  5171376\n",
       "3    2014-01-07  20.100000  20.250000  19.860001  20.000000  5364241\n",
       "4    2014-01-08  20.000000  20.389999  20.000000  20.230000  5186841\n",
       "...         ...        ...        ...        ...        ...      ...\n",
       "1517 2020-03-25  24.600000  24.850000  24.500000  24.799999  7072723\n",
       "1518 2020-03-26  24.620001  25.290001  24.580000  25.129999  8346083\n",
       "1519 2020-03-27  25.320000  25.799999  25.150000  25.180000  8794212\n",
       "1520 2020-03-30  25.150000  25.570000  24.950001  25.450001  8179292\n",
       "1521 2020-03-31  25.500000  25.540001  25.150000  25.350000  5331630\n",
       "\n",
       "[1522 rows x 6 columns]"
      ]
     },
     "execution_count": 7,
     "metadata": {},
     "output_type": "execute_result"
    }
   ],
   "source": [
    "pd.read_excel(company_index[0]+\".xlsx\")"
   ]
  },
  {
   "cell_type": "code",
   "execution_count": 8,
   "metadata": {},
   "outputs": [],
   "source": [
    "df = pd.read_excel(company_index[0]+\".xlsx\")"
   ]
  },
  {
   "cell_type": "code",
   "execution_count": 9,
   "metadata": {},
   "outputs": [],
   "source": [
    "inputs = {\n",
    "    'open': df[\"open\"],\n",
    "    'high': df[\"high\"],\n",
    "    'low':  df[\"low\"],\n",
    "    'close': df[\"close\"],\n",
    "    'volume': df[\"volume\"]\n",
    "}\n",
    "# uses close prices (default)\n",
    "out1 = abstract.SMA(inputs, timeperiod=5)\n",
    "out2 = abstract.SMA(inputs, timeperiod=10)\n",
    "out3 = abstract.SMA(inputs, timeperiod=15)\n",
    "out4 = abstract.SMA(inputs, timeperiod=60)"
   ]
  },
  {
   "cell_type": "code",
   "execution_count": 10,
   "metadata": {},
   "outputs": [
    {
     "data": {
      "text/html": [
       "<div>\n",
       "<style scoped>\n",
       "    .dataframe tbody tr th:only-of-type {\n",
       "        vertical-align: middle;\n",
       "    }\n",
       "\n",
       "    .dataframe tbody tr th {\n",
       "        vertical-align: top;\n",
       "    }\n",
       "\n",
       "    .dataframe thead th {\n",
       "        text-align: right;\n",
       "    }\n",
       "</style>\n",
       "<table border=\"1\" class=\"dataframe\">\n",
       "  <thead>\n",
       "    <tr style=\"text-align: right;\">\n",
       "      <th></th>\n",
       "      <th>ma5</th>\n",
       "    </tr>\n",
       "  </thead>\n",
       "  <tbody>\n",
       "    <tr>\n",
       "      <td>0</td>\n",
       "      <td>NaN</td>\n",
       "    </tr>\n",
       "    <tr>\n",
       "      <td>1</td>\n",
       "      <td>NaN</td>\n",
       "    </tr>\n",
       "    <tr>\n",
       "      <td>2</td>\n",
       "      <td>NaN</td>\n",
       "    </tr>\n",
       "    <tr>\n",
       "      <td>3</td>\n",
       "      <td>NaN</td>\n",
       "    </tr>\n",
       "    <tr>\n",
       "      <td>4</td>\n",
       "      <td>20.544</td>\n",
       "    </tr>\n",
       "    <tr>\n",
       "      <td>5</td>\n",
       "      <td>20.256</td>\n",
       "    </tr>\n",
       "    <tr>\n",
       "      <td>6</td>\n",
       "      <td>19.946</td>\n",
       "    </tr>\n",
       "    <tr>\n",
       "      <td>7</td>\n",
       "      <td>19.742</td>\n",
       "    </tr>\n",
       "    <tr>\n",
       "      <td>8</td>\n",
       "      <td>19.640</td>\n",
       "    </tr>\n",
       "    <tr>\n",
       "      <td>9</td>\n",
       "      <td>19.560</td>\n",
       "    </tr>\n",
       "    <tr>\n",
       "      <td>10</td>\n",
       "      <td>19.538</td>\n",
       "    </tr>\n",
       "    <tr>\n",
       "      <td>11</td>\n",
       "      <td>19.636</td>\n",
       "    </tr>\n",
       "    <tr>\n",
       "      <td>12</td>\n",
       "      <td>19.678</td>\n",
       "    </tr>\n",
       "    <tr>\n",
       "      <td>13</td>\n",
       "      <td>19.776</td>\n",
       "    </tr>\n",
       "    <tr>\n",
       "      <td>14</td>\n",
       "      <td>19.830</td>\n",
       "    </tr>\n",
       "    <tr>\n",
       "      <td>15</td>\n",
       "      <td>19.832</td>\n",
       "    </tr>\n",
       "    <tr>\n",
       "      <td>16</td>\n",
       "      <td>19.794</td>\n",
       "    </tr>\n",
       "    <tr>\n",
       "      <td>17</td>\n",
       "      <td>19.722</td>\n",
       "    </tr>\n",
       "    <tr>\n",
       "      <td>18</td>\n",
       "      <td>19.552</td>\n",
       "    </tr>\n",
       "    <tr>\n",
       "      <td>19</td>\n",
       "      <td>19.328</td>\n",
       "    </tr>\n",
       "  </tbody>\n",
       "</table>\n",
       "</div>"
      ],
      "text/plain": [
       "       ma5\n",
       "0      NaN\n",
       "1      NaN\n",
       "2      NaN\n",
       "3      NaN\n",
       "4   20.544\n",
       "5   20.256\n",
       "6   19.946\n",
       "7   19.742\n",
       "8   19.640\n",
       "9   19.560\n",
       "10  19.538\n",
       "11  19.636\n",
       "12  19.678\n",
       "13  19.776\n",
       "14  19.830\n",
       "15  19.832\n",
       "16  19.794\n",
       "17  19.722\n",
       "18  19.552\n",
       "19  19.328"
      ]
     },
     "execution_count": 10,
     "metadata": {},
     "output_type": "execute_result"
    }
   ],
   "source": [
    "pd.DataFrame(out1, columns=[\"ma5\"]).head(20)"
   ]
  },
  {
   "cell_type": "code",
   "execution_count": 11,
   "metadata": {
    "scrolled": true
   },
   "outputs": [
    {
     "name": "stdout",
     "output_type": "stream",
     "text": [
      "0\n",
      "100\n",
      "200\n",
      "300\n",
      "400\n",
      "500\n",
      "600\n",
      "700\n"
     ]
    },
    {
     "data": {
      "text/plain": [
       "0"
      ]
     },
     "execution_count": 11,
     "metadata": {},
     "output_type": "execute_result"
    }
   ],
   "source": [
    "for w in range(0, len(company_index)):\n",
    "    df = pd.read_excel(company_index[w]+\".xlsx\")\n",
    "    inputs = {\n",
    "    'open': df[\"open\"],\n",
    "    'high': df[\"high\"],\n",
    "    'low':  df[\"low\"],\n",
    "    'close': df[\"close\"],\n",
    "    'volume': df[\"volume\"]\n",
    "    }\n",
    "    # uses close prices (default)\n",
    "    out1 = abstract.SMA(inputs, timeperiod=5)\n",
    "    out2 = abstract.SMA(inputs, timeperiod=10)\n",
    "    out3 = abstract.SMA(inputs, timeperiod=15)\n",
    "    out4 = abstract.SMA(inputs, timeperiod=60)\n",
    "    a =  pd.DataFrame(out1, columns=[\"ma5\"])\n",
    "    b = pd.DataFrame(out2, columns=[\"ma10\"])\n",
    "    c = pd.DataFrame(out3, columns=[\"ma15\"])\n",
    "    d = pd.DataFrame(out4, columns=[\"ma60\"])\n",
    "    pd.concat([df,a , b, c,d], axis=1).to_excel(company_index[w]+\".xlsx\", \\\n",
    "                                              sheet_name = company_index[w], index=False)\n",
    "    if(w%100==0):\n",
    "        print(w)\n",
    "0"
   ]
  },
  {
   "cell_type": "code",
   "execution_count": 12,
   "metadata": {},
   "outputs": [],
   "source": [
    "train_set = pd.read_excel(\"strategy_results_train.xlsx\")"
   ]
  },
  {
   "cell_type": "code",
   "execution_count": 13,
   "metadata": {},
   "outputs": [],
   "source": [
    "import copy"
   ]
  },
  {
   "cell_type": "code",
   "execution_count": 14,
   "metadata": {},
   "outputs": [],
   "source": [
    "dataset = copy.deepcopy(train_set)"
   ]
  },
  {
   "cell_type": "code",
   "execution_count": 15,
   "metadata": {},
   "outputs": [
    {
     "name": "stdout",
     "output_type": "stream",
     "text": [
      "0 2020-06-18 14:38:32.794620\n",
      "1000 2020-06-18 14:42:41.535600\n",
      "2000 2020-06-18 14:46:05.386805\n",
      "3000 2020-06-18 14:49:39.683089\n",
      "4000 2020-06-18 14:53:08.367358\n",
      "5000 2020-06-18 14:56:26.975941\n",
      "6000 2020-06-18 15:00:09.550309\n",
      "7000 2020-06-18 15:03:42.570828\n",
      "8000 2020-06-18 15:07:38.455771\n",
      "9000 2020-06-18 15:11:24.078941\n",
      "10000 2020-06-18 15:14:44.773638\n",
      "11000 2020-06-18 15:17:58.086714\n",
      "12000 2020-06-18 15:21:21.129511\n",
      "13000 2020-06-18 15:24:39.384563\n",
      "14000 2020-06-18 15:28:03.497995\n",
      "15000 2020-06-18 15:31:27.139172\n",
      "16000 2020-06-18 15:34:55.069388\n",
      "17000 2020-06-18 15:38:22.363114\n",
      "18000 2020-06-18 15:41:44.594608\n",
      "19000 2020-06-18 15:45:18.276787\n",
      "20000 2020-06-18 15:48:41.171519\n",
      "21000 2020-06-18 15:52:03.430578\n",
      "22000 2020-06-18 15:55:24.131327\n",
      "23000 2020-06-18 15:58:49.449226\n",
      "24000 2020-06-18 16:02:16.155787\n",
      "25000 2020-06-18 16:05:34.543866\n",
      "26000 2020-06-18 16:08:57.997146\n",
      "27000 2020-06-18 16:12:03.462713\n",
      "28000 2020-06-18 16:15:28.136275\n",
      "29000 2020-06-18 16:18:47.565585\n",
      "30000 2020-06-18 16:22:08.831877\n",
      "31000 2020-06-18 16:25:06.990128\n"
     ]
    }
   ],
   "source": [
    "temp = []\n",
    "for i in range(0, dataset.shape[0]):\n",
    "# for i in range(0, 10):\n",
    "    if(i%1000==0):\n",
    "        print(i, datetime.datetime.now())\n",
    "    trade_company = dataset.iloc[i][0].split(\"_\")[0]\n",
    "    trade_date    = dataset.iloc[i][0].split(\"_\")[1]\n",
    "    df = pd.read_excel(trade_company+\".xlsx\")\n",
    "    trade_date_datetime = datetime.date(int(trade_date[:4]), int(trade_date[4:]), 1) - datetime.timedelta(days=1)\n",
    "    lower_index = 0\n",
    "    for index in range(0, df.shape[0]):\n",
    "        if(df[\"date\"].iloc[index]< trade_date_datetime):\n",
    "            lower_index = index\n",
    "        else:\n",
    "            break\n",
    "#     print(list(df.iloc[lower_index, :]))\n",
    "    temp.append(list(df.iloc[lower_index, :]))"
   ]
  },
  {
   "cell_type": "code",
   "execution_count": 16,
   "metadata": {},
   "outputs": [
    {
     "data": {
      "text/plain": [
       "[Timestamp('2015-01-30 00:00:00'),\n",
       " 22.9899997711182,\n",
       " 23.1900005340576,\n",
       " 22.5100002288818,\n",
       " 22.5799999237061,\n",
       " 7880595,\n",
       " 23.32000007629393,\n",
       " 23.38600006103515,\n",
       " 23.59000002543129]"
      ]
     },
     "execution_count": 16,
     "metadata": {},
     "output_type": "execute_result"
    }
   ],
   "source": [
    "temp[1]"
   ]
  },
  {
   "cell_type": "code",
   "execution_count": 17,
   "metadata": {},
   "outputs": [],
   "source": [
    "pd.DataFrame(temp).to_excel(\"train_output.xlsx\", index=False)"
   ]
  },
  {
   "cell_type": "code",
   "execution_count": 27,
   "metadata": {},
   "outputs": [],
   "source": [
    "testset = pd.read_excel(\"sampleSubmission.xlsx\")"
   ]
  },
  {
   "cell_type": "code",
   "execution_count": 28,
   "metadata": {},
   "outputs": [
    {
     "data": {
      "text/html": [
       "<div>\n",
       "<style scoped>\n",
       "    .dataframe tbody tr th:only-of-type {\n",
       "        vertical-align: middle;\n",
       "    }\n",
       "\n",
       "    .dataframe tbody tr th {\n",
       "        vertical-align: top;\n",
       "    }\n",
       "\n",
       "    .dataframe thead th {\n",
       "        text-align: right;\n",
       "    }\n",
       "</style>\n",
       "<table border=\"1\" class=\"dataframe\">\n",
       "  <thead>\n",
       "    <tr style=\"text-align: right;\">\n",
       "      <th></th>\n",
       "      <th>id</th>\n",
       "      <th>label</th>\n",
       "    </tr>\n",
       "  </thead>\n",
       "  <tbody>\n",
       "    <tr>\n",
       "      <td>0</td>\n",
       "      <td>SHSE.600085_201901</td>\n",
       "      <td>0</td>\n",
       "    </tr>\n",
       "    <tr>\n",
       "      <td>1</td>\n",
       "      <td>SHSE.600085_201902</td>\n",
       "      <td>0</td>\n",
       "    </tr>\n",
       "    <tr>\n",
       "      <td>2</td>\n",
       "      <td>SHSE.600085_201903</td>\n",
       "      <td>0</td>\n",
       "    </tr>\n",
       "    <tr>\n",
       "      <td>3</td>\n",
       "      <td>SHSE.600085_201904</td>\n",
       "      <td>0</td>\n",
       "    </tr>\n",
       "    <tr>\n",
       "      <td>4</td>\n",
       "      <td>SHSE.600085_201905</td>\n",
       "      <td>0</td>\n",
       "    </tr>\n",
       "  </tbody>\n",
       "</table>\n",
       "</div>"
      ],
      "text/plain": [
       "                   id  label\n",
       "0  SHSE.600085_201901      0\n",
       "1  SHSE.600085_201902      0\n",
       "2  SHSE.600085_201903      0\n",
       "3  SHSE.600085_201904      0\n",
       "4  SHSE.600085_201905      0"
      ]
     },
     "execution_count": 28,
     "metadata": {},
     "output_type": "execute_result"
    }
   ],
   "source": [
    "testset.head()"
   ]
  },
  {
   "cell_type": "code",
   "execution_count": 29,
   "metadata": {},
   "outputs": [
    {
     "name": "stdout",
     "output_type": "stream",
     "text": [
      "0 2020-06-18 17:28:10.072148\n",
      "1000 2020-06-18 17:31:59.959666\n",
      "2000 2020-06-18 17:35:27.031478\n",
      "3000 2020-06-18 17:39:24.308738\n",
      "4000 2020-06-18 17:42:28.216047\n",
      "5000 2020-06-18 17:46:13.208176\n",
      "6000 2020-06-18 17:50:05.769107\n",
      "7000 2020-06-18 17:53:48.989996\n",
      "8000 2020-06-18 17:57:26.195505\n",
      "9000 2020-06-18 18:03:38.269865\n",
      "10000 2020-06-18 18:07:05.152722\n",
      "11000 2020-06-18 18:10:01.400625\n"
     ]
    }
   ],
   "source": [
    "temp = []\n",
    "for i in range(0, testset.shape[0]):\n",
    "# for i in range(0, 10):\n",
    "    if(i%1000==0):\n",
    "        print(i, datetime.datetime.now())\n",
    "    trade_company = testset.iloc[i][0].split(\"_\")[0]\n",
    "    trade_date    = testset.iloc[i][0].split(\"_\")[1]\n",
    "    df = pd.read_excel(trade_company+\".xlsx\")\n",
    "    trade_date_datetime = datetime.date(int(trade_date[:4]), int(trade_date[4:]), 1) - datetime.timedelta(days=1)\n",
    "    lower_index = 0\n",
    "    for index in range(0, df.shape[0]):\n",
    "        if(df[\"date\"].iloc[index]< trade_date_datetime):\n",
    "            lower_index = index\n",
    "        else:\n",
    "            break\n",
    "#     print(list(df.iloc[lower_index, :]))\n",
    "    if(lower_index==0):\n",
    "        temp.append(dash = [\"-\",\"\",\"\",\"\",\"\",\"\",\"\",\"\",\"\"])\n",
    "    else:\n",
    "        temp.append(list(df.iloc[lower_index, :]))"
   ]
  },
  {
   "cell_type": "code",
   "execution_count": 30,
   "metadata": {},
   "outputs": [],
   "source": [
    "pd.DataFrame(temp).to_excel(\"test_output.xlsx\", index=False)\n"
   ]
  },
  {
   "cell_type": "code",
   "execution_count": null,
   "metadata": {},
   "outputs": [],
   "source": []
  },
  {
   "cell_type": "code",
   "execution_count": null,
   "metadata": {},
   "outputs": [],
   "source": []
  }
 ],
 "metadata": {
  "kernelspec": {
   "display_name": "Python 3",
   "language": "python",
   "name": "python3"
  },
  "language_info": {
   "codemirror_mode": {
    "name": "ipython",
    "version": 3
   },
   "file_extension": ".py",
   "mimetype": "text/x-python",
   "name": "python",
   "nbconvert_exporter": "python",
   "pygments_lexer": "ipython3",
   "version": "3.6.9"
  }
 },
 "nbformat": 4,
 "nbformat_minor": 2
}
